{
 "cells": [
  {
   "cell_type": "code",
   "execution_count": 1,
   "id": "d0c2a144",
   "metadata": {},
   "outputs": [],
   "source": [
    "import sys\n",
    "import os\n",
    "\n",
    "# Add the root project directory to sys.path\n",
    "sys.path.append(os.path.abspath(\"..\"))\n",
    "\n",
    "from acs1 import ACS1"
   ]
  },
  {
   "cell_type": "code",
   "execution_count": 2,
   "id": "cb069fc9",
   "metadata": {},
   "outputs": [],
   "source": [
    "a = ACS1()"
   ]
  },
  {
   "cell_type": "code",
   "execution_count": null,
   "id": "0be86567",
   "metadata": {},
   "outputs": [],
   "source": []
  }
 ],
 "metadata": {
  "kernelspec": {
   "display_name": "acs_plus",
   "language": "python",
   "name": "python3"
  },
  "language_info": {
   "codemirror_mode": {
    "name": "ipython",
    "version": 3
   },
   "file_extension": ".py",
   "mimetype": "text/x-python",
   "name": "python",
   "nbconvert_exporter": "python",
   "pygments_lexer": "ipython3",
   "version": "3.13.1"
  }
 },
 "nbformat": 4,
 "nbformat_minor": 5
}
